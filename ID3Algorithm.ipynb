{
 "cells": [
  {
   "cell_type": "code",
   "execution_count": 1,
   "id": "32a983bd",
   "metadata": {},
   "outputs": [
    {
     "name": "stdout",
     "output_type": "stream",
     "text": [
      "first 5 rows of tennis data set     Outlook Temperature Humidity  Windy PlayTennis\n",
      "0     Sunny         Hot     High  False         No\n",
      "1     Sunny         Hot     High   True         No\n",
      "2  Overcast         Hot     High  False        Yes\n",
      "3     Rainy        Mild     High  False        Yes\n",
      "4     Rainy        Cool   Normal  False        Yes\n",
      "first 5 rows of train data     Outlook Temperature Humidity  Windy\n",
      "0     Sunny         Hot     High  False\n",
      "1     Sunny         Hot     High   True\n",
      "2  Overcast         Hot     High  False\n",
      "3     Rainy        Mild     High  False\n",
      "4     Rainy        Cool   Normal  False\n",
      "first 5 rows of train output data 0     No\n",
      "1     No\n",
      "2    Yes\n",
      "3    Yes\n",
      "4    Yes\n",
      "Name: PlayTennis, dtype: object\n",
      "The train data is    Outlook  Temperature  Humidity  Windy\n",
      "0        2            1         0      0\n",
      "1        2            1         0      1\n",
      "2        0            1         0      0\n",
      "3        1            2         0      0\n",
      "4        1            0         1      0\n",
      "The train output data is [0 0 1 1 1 0 1 0 1 1 1 1 1 0]\n",
      "for input [1, 0, 0, 1] we obtain ['No']\n"
     ]
    },
    {
     "name": "stderr",
     "output_type": "stream",
     "text": [
      "C:\\Users\\om\\anaconda3\\Lib\\site-packages\\sklearn\\base.py:464: UserWarning: X does not have valid feature names, but DecisionTreeClassifier was fitted with feature names\n",
      "  warnings.warn(\n"
     ]
    }
   ],
   "source": [
    "import pandas as pd\n",
    "import numpy as np\n",
    "from sklearn import tree\n",
    "from sklearn.preprocessing import LabelEncoder\n",
    "from sklearn.tree import DecisionTreeClassifier\n",
    "from six import StringIO\n",
    "data=pd.read_csv(\"tennisdata.csv\")\n",
    "print(\"first 5 rows of tennis data set\" , data.head())\n",
    "features=data.iloc[:,:-1]\n",
    "print(\"first 5 rows of train data\" , features.head())\n",
    "y=data.iloc[:,-1]\n",
    "print(\"first 5 rows of train output data\" , y.head())\n",
    "le_Outlook=LabelEncoder()\n",
    "features.Outlook=le_Outlook.fit_transform(features.Outlook)\n",
    "le_Temperature=LabelEncoder()\n",
    "features.Temperature=le_Temperature.fit_transform(features.Temperature)\n",
    "le_Humidity=LabelEncoder()\n",
    "features.Humidity=le_Humidity.fit_transform(features.Humidity)\n",
    "le_Windy=LabelEncoder()\n",
    "features.Windy=le_Windy.fit_transform(features.Windy)\n",
    "print(\"The train data is\" , features.head())\n",
    "le_PlayTennis=LabelEncoder()\n",
    "y=le_PlayTennis.fit_transform(y)\n",
    "print(\"The train output data is\" , y)\n",
    "classifier=DecisionTreeClassifier()\n",
    "classifier.fit(features , y)\n",
    "def LabelEncoderInputData(lst):\n",
    "    lst[0]=le_Outlook.transform([lst[0]])[0]\n",
    "    lst[1]=le_Temperature.transform([lst[1]])[0]\n",
    "    lst[2]=le_Humidity.transform([lst[2]])[0]\n",
    "    lst[3]=le_Windy.transform([lst[3]])[0]\n",
    "    return lst\n",
    "inp=[\"Rainy\" , \"Mild\" , \"High\" , \"False\"] \n",
    "inp1=[\"Rainy\" , \"Cool\" , \"High\" , \"False\"]\n",
    "pred1=LabelEncoderInputData(inp1)\n",
    "pred1 = np.array(pred1).reshape(1, -1)\n",
    "y_pred=classifier.predict(pred1)\n",
    "print(\"for input\" , inp1 , \"we obtain\" , le_PlayTennis.inverse_transform(y_pred))"
   ]
  },
  {
   "cell_type": "code",
   "execution_count": null,
   "id": "500569b0",
   "metadata": {},
   "outputs": [],
   "source": []
  }
 ],
 "metadata": {
  "kernelspec": {
   "display_name": "Python 3 (ipykernel)",
   "language": "python",
   "name": "python3"
  },
  "language_info": {
   "codemirror_mode": {
    "name": "ipython",
    "version": 3
   },
   "file_extension": ".py",
   "mimetype": "text/x-python",
   "name": "python",
   "nbconvert_exporter": "python",
   "pygments_lexer": "ipython3",
   "version": "3.11.4"
  }
 },
 "nbformat": 4,
 "nbformat_minor": 5
}
