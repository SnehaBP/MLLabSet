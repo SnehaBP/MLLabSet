{
 "cells": [
  {
   "cell_type": "code",
   "execution_count": 31,
   "id": "e170821a",
   "metadata": {},
   "outputs": [
    {
     "name": "stdout",
     "output_type": "stream",
     "text": [
      "accuracy 0.8348868175765646\n",
      "                        precision    recall  f1-score   support\n",
      "\n",
      "           alt.atheism       0.97      0.60      0.74       319\n",
      "         comp.graphics       0.96      0.89      0.92       389\n",
      "               sci.med       0.97      0.81      0.88       396\n",
      "soc.religion.christian       0.65      0.99      0.78       398\n",
      "\n",
      "              accuracy                           0.83      1502\n",
      "             macro avg       0.89      0.82      0.83      1502\n",
      "          weighted avg       0.88      0.83      0.84      1502\n",
      "\n",
      "confussion matrics [[192   2   2   2]\n",
      " [  2 347  11   2]\n",
      " [  6   4 322   1]\n",
      " [119  36  61 393]]\n"
     ]
    }
   ],
   "source": [
    "from sklearn.datasets import fetch_20newsgroups\n",
    "from sklearn import metrics\n",
    "from sklearn.metrics import accuracy_score\n",
    "from sklearn.metrics import classification_report\n",
    "from sklearn.metrics import confusion_matrix\n",
    "from sklearn.feature_extraction.text import CountVectorizer\n",
    "from sklearn.feature_extraction.text import TfidfTransformer\n",
    "from sklearn.naive_bayes import MultinomialNB\n",
    "categories=['alt.atheism','soc.religion.christian','comp.graphics','sci.med']\n",
    "trainSet=fetch_20newsgroups(subset=\"train\",categories=categories,shuffle=True)\n",
    "testSet=fetch_20newsgroups(subset=\"test\",categories=categories,shuffle=True)\n",
    "countVect=CountVectorizer()\n",
    "trainSet_tf=countVect.fit_transform(trainSet.data)\n",
    "transform_tfidf=TfidfTransformer()\n",
    "trainSet_tfidf=transform_tfidf.fit_transform(trainSet_tf)\n",
    "trainSet_tfidf.shape\n",
    "mod=MultinomialNB()\n",
    "mod.fit(trainSet_tfidf,trainSet.target)\n",
    "testSet_tf=countVect.transform(testSet.data)\n",
    "testSet_tfidf=transform_tfidf.transform(testSet_tf)\n",
    "predicted=mod.predict(testSet_tfidf)\n",
    "print(\"accuracy\" , accuracy_score(predicted,testSet.target))\n",
    "print(classification_report(testSet.target,predicted,target_names=testSet.target_names))\n",
    "print(\"confussion matrics\" , confusion_matrix(predicted,testSet.target))"
   ]
  },
  {
   "cell_type": "code",
   "execution_count": null,
   "id": "33526908",
   "metadata": {},
   "outputs": [],
   "source": []
  }
 ],
 "metadata": {
  "kernelspec": {
   "display_name": "Python 3 (ipykernel)",
   "language": "python",
   "name": "python3"
  },
  "language_info": {
   "codemirror_mode": {
    "name": "ipython",
    "version": 3
   },
   "file_extension": ".py",
   "mimetype": "text/x-python",
   "name": "python",
   "nbconvert_exporter": "python",
   "pygments_lexer": "ipython3",
   "version": "3.11.4"
  }
 },
 "nbformat": 4,
 "nbformat_minor": 5
}
