{
 "cells": [
  {
   "cell_type": "code",
   "execution_count": 2,
   "id": "43ecef9a",
   "metadata": {},
   "outputs": [
    {
     "name": "stdout",
     "output_type": "stream",
     "text": [
      "['sky', 'airtemp', 'humidity', 'wind', 'water', 'forcast', 'enjoysport']\n",
      "['sunny', 'warm', 'normal', 'strong', 'warm', 'same', 'yes']\n",
      "['sunny', 'warm', 'high', 'strong', 'warm', 'same', 'yes']\n",
      "['rainy', 'cold', 'high', 'strong', 'warm', 'change', 'no']\n",
      "['sunny', 'warm', 'high', 'strong', 'cool', 'change', 'yes']\n",
      "The initial ipothesis is ['0', '0', '0', '0', '0', '0']\n",
      "finds algorithm\n",
      "For training instance 1 hypothesis is ['sunny', 'warm', 'normal', 'strong', 'warm', 'same']\n",
      "For training instance 2 hypothesis is ['sunny', 'warm', '?', 'strong', 'warm', 'same']\n",
      "For training instance 4 hypothesis is ['sunny', 'warm', '?', 'strong', '?', '?']\n",
      "maximally specified hypothesis is ['sunny', 'warm', '?', 'strong', '?', '?']\n"
     ]
    }
   ],
   "source": [
    "import csv\n",
    "a=[]\n",
    "maxAtr=6\n",
    "with open(\"enjoysport.csv\",\"r\") as csvfile:\n",
    "    reader=csv.reader(csvfile)\n",
    "    for row in reader:\n",
    "        a.append(row)\n",
    "        print(row)\n",
    "hypothesis=['0']*maxAtr\n",
    "print(\"The initial ipothesis is\" , hypothesis)\n",
    "for j in range(0,maxAtr):\n",
    "    hypothesis[j]=a[1][j]\n",
    "print(\"finds algorithm\")\n",
    "for i in range(0,len(a)):\n",
    "    if a[i][maxAtr]=='yes':\n",
    "        for j in range(0,maxAtr):\n",
    "            if a[i][j]!=hypothesis[j]:\n",
    "                hypothesis[j]='?'\n",
    "            else:\n",
    "                hypothesis[j]=a[i][j]  \n",
    "        print(\"For training instance\" , i ,\"hypothesis is\" , hypothesis)\n",
    "print(\"maximally specified hypothesis is\" , hypothesis)"
   ]
  }
 ],
 "metadata": {
  "kernelspec": {
   "display_name": "Python 3 (ipykernel)",
   "language": "python",
   "name": "python3"
  },
  "language_info": {
   "codemirror_mode": {
    "name": "ipython",
    "version": 3
   },
   "file_extension": ".py",
   "mimetype": "text/x-python",
   "name": "python",
   "nbconvert_exporter": "python",
   "pygments_lexer": "ipython3",
   "version": "3.11.4"
  }
 },
 "nbformat": 4,
 "nbformat_minor": 5
}
