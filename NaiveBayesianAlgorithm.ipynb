{
 "cells": [
  {
   "cell_type": "code",
   "execution_count": 19,
   "id": "33526908",
   "metadata": {},
   "outputs": [
    {
     "name": "stdout",
     "output_type": "stream",
     "text": [
      "first few rows of data set is:\n",
      "     Outlook Temperature Humidity  Windy PlayTennis\n",
      "0     Sunny         Hot     High  False         No\n",
      "1     Sunny         Hot     High   True         No\n",
      "2  Overcast         Hot     High  False        Yes\n",
      "3     Rainy        Mild     High  False        Yes\n",
      "4     Rainy        Cool   Normal  False        Yes\n",
      "first few rows of train data is:\n",
      "     Outlook Temperature Humidity  Windy\n",
      "0     Sunny         Hot     High  False\n",
      "1     Sunny         Hot     High   True\n",
      "2  Overcast         Hot     High  False\n",
      "3     Rainy        Mild     High  False\n",
      "4     Rainy        Cool   Normal  False\n",
      "first few rows of train output data is:\n",
      " 0     No\n",
      "1     No\n",
      "2    Yes\n",
      "3    Yes\n",
      "4    Yes\n",
      "Name: PlayTennis, dtype: object\n",
      "now first few rows of train data is:    Outlook  Temperature  Humidity  Windy\n",
      "0        2            1         0      0\n",
      "1        2            1         0      1\n",
      "2        0            1         0      0\n",
      "3        1            2         0      0\n",
      "4        1            0         1      0\n",
      "now train output data is: [0 0 1 1 1 0 1 0 1 1 1 1 1 0]\n",
      "Accuracy is 1.0\n"
     ]
    }
   ],
   "source": [
    "from sklearn.datasets import load_iris\n",
    "from sklearn.preprocessing import LabelEncoder\n",
    "from sklearn.metrics import accuracy_score\n",
    "from sklearn.naive_bayes import GaussianNB\n",
    "import pandas as pd\n",
    "from sklearn.model_selection import train_test_split\n",
    "data=pd.read_csv(\"tennisdata.csv\")\n",
    "print(\"first few rows of data set is:\\n\", data.head())\n",
    "features=data.iloc[:,:-1]\n",
    "print(\"first few rows of train data is:\\n\", features.head())\n",
    "target=data.iloc[:,-1]\n",
    "print(\"first few rows of train output data is:\\n\", target.head())\n",
    "le_Outlook=LabelEncoder()\n",
    "features.Outlook=le_Outlook.fit_transform(features.Outlook)\n",
    "le_Temperature=LabelEncoder()\n",
    "features.Temperature=le_Temperature.fit_transform(features.Temperature)\n",
    "le_Humidity=LabelEncoder()\n",
    "features.Humidity=le_Humidity.fit_transform(features.Humidity)\n",
    "le_Windy=LabelEncoder()\n",
    "features.Windy=le_Windy.fit_transform(features.Windy)\n",
    "print(\"now first few rows of train data is:\",features.head())\n",
    "le_PlayTennis=LabelEncoder()\n",
    "target=le_PlayTennis.fit_transform(target)\n",
    "print(\"now train output data is:\",target)\n",
    "xTrain,xTest,yTrain,yTest=train_test_split(features,target,test_size=0.20)\n",
    "classifier=GaussianNB()\n",
    "classifier.fit(xTrain,yTrain)\n",
    "predicted=classifier.predict(xTest)\n",
    "print(\"Accuracy is\", accuracy_score(predicted,yTest))"
   ]
  },
  {
   "cell_type": "code",
   "execution_count": null,
   "id": "f82605b8",
   "metadata": {},
   "outputs": [],
   "source": []
  },
  {
   "cell_type": "code",
   "execution_count": null,
   "id": "7b62902e",
   "metadata": {},
   "outputs": [],
   "source": []
  }
 ],
 "metadata": {
  "kernelspec": {
   "display_name": "Python 3 (ipykernel)",
   "language": "python",
   "name": "python3"
  },
  "language_info": {
   "codemirror_mode": {
    "name": "ipython",
    "version": 3
   },
   "file_extension": ".py",
   "mimetype": "text/x-python",
   "name": "python",
   "nbconvert_exporter": "python",
   "pygments_lexer": "ipython3",
   "version": "3.11.4"
  }
 },
 "nbformat": 4,
 "nbformat_minor": 5
}
