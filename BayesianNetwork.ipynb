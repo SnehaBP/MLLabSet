{
 "cells": [
  {
   "cell_type": "code",
   "execution_count": null,
   "id": "f82605b8",
   "metadata": {},
   "outputs": [
    {
     "name": "stdout",
     "output_type": "stream",
     "text": [
      "\n",
      "\n"
     ]
    }
   ],
   "source": [
    "import bayespy as bp\n",
    "import numpy as np\n",
    "import csv\n",
    "ageEnum={'SuperSeniorCitizen':0,'SeniorCitizen':1,'MiddleAged':2,'Youth':3,'Teen':4}\n",
    "genderEnum={'Male':0,'Female':1}\n",
    "familyHistryEnum={'Yes':0,'No':1}\n",
    "dietEnum={'High':0,'Medium':1,'Low':2}\n",
    "lifeStyleEnum={'Athlete':0,'Active':1,'Moderate':2,'Sedetary':3}\n",
    "colestroleEnum={'High':0,'BorderLine':1,'Normal':2}\n",
    "heartDiseaseEnum={'Yes':0,'No':1}\n",
    "with open('heartdisease.csv') as csvfile:\n",
    "    line=csv.reader(csvfile)\n",
    "    data=[]\n",
    "    dataset=list(line)\n",
    "    for x in dataset:\n",
    "        data.append([ageEnum[x[0]],genderEnum[x[1]],familyHistryEnum[x[2]],dietEnum[x[3]],lifeStyleEnum[x[4]],colestroleEnum[x[5]],heartDiseaseEnum[x[6]]])\n",
    "data=np.array(data)\n",
    "n=len(data)\n",
    "p_age = bp.nodes.Dirichlet(1.0*np.ones(5))\n",
    "age = bp.nodes.Categorical(p_age, plates=(n,))\n",
    "age.observe(data[:,0])\n",
    "p_gender = bp.nodes.Dirichlet(1.0*np.ones(2))\n",
    "gender = bp.nodes.Categorical(p_gender, plates=(n,))\n",
    "gender.observe(data[:,1])\n",
    "p_familyHistry = bp.nodes.Dirichlet(1.0*np.ones(2))\n",
    "familyHistry = bp.nodes.Categorical(p_familyHistry, plates=(n,))\n",
    "familyHistry.observe(data[:,2])\n",
    "p_diet = bp.nodes.Dirichlet(1.0*np.ones(3))\n",
    "diet = bp.nodes.Categorical(p_diet, plates=(n,))\n",
    "diet.observe(data[:,3])\n",
    "p_lifeStyle = bp.nodes.Dirichlet(1.0*np.ones(4))\n",
    "lifeStyle = bp.nodes.Categorical(p_lifeStyle, plates=(n,))\n",
    "lifeStyle.observe(data[:,4])\n",
    "p_colestrole = bp.nodes.Dirichlet(1.0*np.ones(3))\n",
    "colestrole = bp.nodes.Categorical(p_colestrole, plates=(n,))\n",
    "colestrole.observe(data[:,5])\n",
    "p_heartDisease = bp.nodes.Dirichlet(np.ones(2), plates=(5,2,2,3,4,3))\n",
    "heartDisease = bp.nodes.MultiMixture([age,gender,familyHistry,diet,lifeStyle,colestrole],bp.nodes.Categorical,p_heartDisease)\n",
    "heartDisease.observe(data[:,6])\n",
    "p_heartDisease.update()\n",
    "m=0\n",
    "while m==0:\n",
    "    print(\"\\n\")\n",
    "    res=bp.nodes.MultiMixture([int(input('enter age:'+str(ageEnum))),int(input('enter gender:'+str(genderEnum))),int(input('enter familyHistry:'+str(familyHistryEnum))),int(input('enter diet:'+str(dietEnum))),int(input('enter lifeStyle:'+str(lifeStyleEnum))),int(input('enter colestrole:'+str(colestroleEnum)))],bp.nodes.Categorical,p_heartDisease).get_moments()[0][heartDiseaseEnum['Yes']]\n",
    "    print(\"probability(heartDisease)=\" +str(res))\n",
    "    m=int(input(\"enter continue:0 or exit:1\"))"
   ]
  },
  {
   "cell_type": "markdown",
   "id": "d40f7816",
   "metadata": {},
   "source": []
  }
 ],
 "metadata": {
  "kernelspec": {
   "display_name": "Python 3 (ipykernel)",
   "language": "python",
   "name": "python3"
  },
  "language_info": {
   "codemirror_mode": {
    "name": "ipython",
    "version": 3
   },
   "file_extension": ".py",
   "mimetype": "text/x-python",
   "name": "python",
   "nbconvert_exporter": "python",
   "pygments_lexer": "ipython3",
   "version": "3.11.4"
  }
 },
 "nbformat": 4,
 "nbformat_minor": 5
}
