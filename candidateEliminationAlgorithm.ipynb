{
 "cells": [
  {
   "cell_type": "code",
   "execution_count": 1,
   "id": "ae595f9a",
   "metadata": {},
   "outputs": [
    {
     "name": "stdout",
     "output_type": "stream",
     "text": [
      "instances are [['sunny' 'warm' 'normal' 'strong' 'warm' 'same']\n",
      " ['sunny' 'warm' 'high' 'strong' 'warm' 'same']\n",
      " ['rainy' 'cold' 'high' 'strong' 'warm' 'change']\n",
      " ['sunny' 'warm' 'high' 'strong' 'cool' 'change']]\n",
      "target values are ['yes' 'yes' 'no' 'yes']\n",
      "specific boundry is ['sunny' 'warm' 'normal' 'strong' 'warm' 'same']\n",
      "generic boundry is [['?', '?', '?', '?', '?', '?'], ['?', '?', '?', '?', '?', '?'], ['?', '?', '?', '?', '?', '?'], ['?', '?', '?', '?', '?', '?'], ['?', '?', '?', '?', '?', '?'], ['?', '?', '?', '?', '?', '?']]\n",
      "for instance 1\n",
      "positive\n",
      "specific boundry for 1 is ['sunny' 'warm' 'normal' 'strong' 'warm' 'same']\n",
      "generic boundry for 1 is [['?', '?', '?', '?', '?', '?'], ['?', '?', '?', '?', '?', '?'], ['?', '?', '?', '?', '?', '?'], ['?', '?', '?', '?', '?', '?'], ['?', '?', '?', '?', '?', '?'], ['?', '?', '?', '?', '?', '?']]\n",
      "for instance 2\n",
      "positive\n",
      "specific boundry for 2 is ['sunny' 'warm' '?' 'strong' 'warm' 'same']\n",
      "generic boundry for 2 is [['?', '?', '?', '?', '?', '?'], ['?', '?', '?', '?', '?', '?'], ['?', '?', '?', '?', '?', '?'], ['?', '?', '?', '?', '?', '?'], ['?', '?', '?', '?', '?', '?'], ['?', '?', '?', '?', '?', '?']]\n",
      "for instance 3\n",
      "negetive\n",
      "specific boundry for 3 is ['sunny' 'warm' '?' 'strong' 'warm' 'same']\n",
      "generic boundry for 3 is [['sunny', '?', '?', '?', '?', '?'], ['?', 'warm', '?', '?', '?', '?'], ['?', '?', '?', '?', '?', '?'], ['?', '?', '?', '?', '?', '?'], ['?', '?', '?', '?', '?', '?'], ['?', '?', '?', '?', '?', 'same']]\n",
      "for instance 4\n",
      "positive\n",
      "specific boundry for 4 is ['sunny' 'warm' '?' 'strong' '?' '?']\n",
      "generic boundry for 4 is [['sunny', '?', '?', '?', '?', '?'], ['?', 'warm', '?', '?', '?', '?'], ['?', '?', '?', '?', '?', '?'], ['?', '?', '?', '?', '?', '?'], ['?', '?', '?', '?', '?', '?'], ['?', '?', '?', '?', '?', '?']]\n",
      "final specific_h is\n",
      "['sunny' 'warm' '?' 'strong' '?' '?']\n",
      "final generic_h is\n",
      "[['sunny', '?', '?', '?', '?', '?'], ['?', 'warm', '?', '?', '?', '?']]\n"
     ]
    }
   ],
   "source": [
    "import pandas as pd\n",
    "import numpy as np\n",
    "data=pd.read_csv(\"enjoysport.csv\")\n",
    "concepts=np.array(data.iloc[:,0:-1])\n",
    "print(\"instances are\",concepts)\n",
    "target=np.array(data.iloc[:,-1])\n",
    "print(\"target values are\",target)\n",
    "def learn(concepts,target):\n",
    "    specific_h=concepts[0].copy()\n",
    "    generic_h=[['?' for i in range(len(specific_h))] for i in range(len(specific_h))]\n",
    "    print(\"specific boundry is\" , specific_h)\n",
    "    print(\"generic boundry is\" , generic_h)\n",
    "    for i,h in enumerate(concepts):\n",
    "        print(\"for instance\",i+1)\n",
    "        if target[i]=='yes':\n",
    "            print(\"positive\")\n",
    "            for x in range(len(specific_h)):\n",
    "                if h[x]!=specific_h[x]:\n",
    "                    specific_h[x]=\"?\"\n",
    "                    generic_h[x][x]=\"?\"\n",
    "        if target[i]=='no':\n",
    "            print(\"negetive\")\n",
    "            for x in range(len(specific_h)):\n",
    "                if h[x]!=specific_h[x]:\n",
    "                    generic_h[x][x]=specific_h[x]\n",
    "                else:\n",
    "                    generic_h[x][x]=\"?\"\n",
    "        print(\"specific boundry for\", i+1, \"is\" , specific_h)  \n",
    "        print(\"generic boundry for\", i+1 ,\"is\" ,generic_h) \n",
    "    indices=[i for i , val in enumerate(generic_h) if val==[\"?\",\"?\",\"?\",\"?\",\"?\",\"?\"]]\n",
    "    for i in indices:\n",
    "            generic_h.remove([\"?\",\"?\",\"?\",\"?\",\"?\",\"?\"])\n",
    "    return specific_h , generic_h\n",
    "s_final , g_final = learn(concepts,target)\n",
    "print(\"final specific_h is\" , s_final,sep=\"\\n\")        \n",
    "print(\"final generic_h is\" , g_final,sep=\"\\n\") "
   ]
  },
  {
   "cell_type": "code",
   "execution_count": null,
   "id": "f47941de",
   "metadata": {},
   "outputs": [],
   "source": []
  }
 ],
 "metadata": {
  "kernelspec": {
   "display_name": "Python 3 (ipykernel)",
   "language": "python",
   "name": "python3"
  },
  "language_info": {
   "codemirror_mode": {
    "name": "ipython",
    "version": 3
   },
   "file_extension": ".py",
   "mimetype": "text/x-python",
   "name": "python",
   "nbconvert_exporter": "python",
   "pygments_lexer": "ipython3",
   "version": "3.11.4"
  }
 },
 "nbformat": 4,
 "nbformat_minor": 5
}
